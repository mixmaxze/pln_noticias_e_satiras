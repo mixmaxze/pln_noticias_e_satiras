{
  "nbformat": 4,
  "nbformat_minor": 0,
  "metadata": {
    "colab": {
      "provenance": [],
      "collapsed_sections": [
        "JntVcFWCHGtC"
      ],
      "authorship_tag": "ABX9TyODcAec3WrwneGTdYJutXrY",
      "include_colab_link": true
    },
    "kernelspec": {
      "name": "python3",
      "display_name": "Python 3"
    },
    "language_info": {
      "name": "python"
    }
  },
  "cells": [
    {
      "cell_type": "markdown",
      "metadata": {
        "id": "view-in-github",
        "colab_type": "text"
      },
      "source": [
        "<a href=\"https://colab.research.google.com/github/mixmaxze/pln_noticias_e_satiras/blob/main/Classifica%C3%A7%C3%A3o_de_not%C3%ADcias_e_s%C3%A1tiras.ipynb\" target=\"_parent\"><img src=\"https://colab.research.google.com/assets/colab-badge.svg\" alt=\"Open In Colab\"/></a>"
      ]
    },
    {
      "cell_type": "markdown",
      "source": [
        "### **Classificando notícias reais e notícias satíricas**\n"
      ],
      "metadata": {
        "id": "WFRiN7q1ylHW"
      }
    },
    {
      "cell_type": "markdown",
      "source": [
        "### Desenvolvido por José Matheus do Nascimento Gama para a disciplina de Processamento de Linguagem Natural (PLN) do curso de Ciência de Computação (UFCG)."
      ],
      "metadata": {
        "id": "PP6fifUmKUXI"
      }
    },
    {
      "cell_type": "markdown",
      "source": [
        "### Neste notebook utilizamos os algoritmos de classificação Naive Bayes, Regressão Logística e Máquinas de Vetores de Suporte para classificar notícas satíricas e notícias reais. A base de dados com notícias reais e satíricas foi coletada de sites mainstream de notícias e do Sensacionalista, respectivamente."
      ],
      "metadata": {
        "id": "3-NW9P_7uagj"
      }
    },
    {
      "cell_type": "markdown",
      "source": [
        "### Importando bibliotecas e conjunto de dados"
      ],
      "metadata": {
        "id": "mJTOOXCrtEYx"
      }
    },
    {
      "cell_type": "code",
      "execution_count": null,
      "metadata": {
        "id": "xr48gBPumUuI",
        "colab": {
          "base_uri": "https://localhost:8080/"
        },
        "outputId": "c82f6989-160b-46c2-be3e-afbba68bb288"
      },
      "outputs": [
        {
          "output_type": "stream",
          "name": "stderr",
          "text": [
            "[nltk_data] Downloading package stopwords to /root/nltk_data...\n",
            "[nltk_data]   Unzipping corpora/stopwords.zip.\n"
          ]
        },
        {
          "output_type": "execute_result",
          "data": {
            "text/plain": [
              "True"
            ]
          },
          "metadata": {},
          "execution_count": 1
        }
      ],
      "source": [
        "import matplotlib.pyplot as plt\n",
        "import nltk\n",
        "import numpy as np\n",
        "import pandas as pd\n",
        "import seaborn as sns\n",
        "\n",
        "from sklearn.feature_extraction.text import CountVectorizer\n",
        "from sklearn import metrics\n",
        "from sklearn.linear_model import LogisticRegression\n",
        "from sklearn.model_selection import train_test_split\n",
        "from sklearn.naive_bayes import MultinomialNB\n",
        "from sklearn import svm\n",
        "from nltk.corpus import stopwords\n",
        "from nltk.tokenize import RegexpTokenizer\n",
        "\n",
        "sns.set(color_codes = True)\n",
        "nltk.download('stopwords')"
      ]
    },
    {
      "cell_type": "code",
      "source": [
        "url = \"https://drive.google.com/file/d/1dmjTruJJy-K8LlbVjR1zddH2bI9sK0_q/view?usp=sharing\"\n",
        "path = \"https://drive.google.com/uc?export=download&id=\" + url.split(\"/\")[-2]\n",
        "\n",
        "df = pd.read_csv(path)"
      ],
      "metadata": {
        "id": "plUIj-Zbs7DW"
      },
      "execution_count": null,
      "outputs": []
    },
    {
      "cell_type": "code",
      "source": [
        "df.sample(10)"
      ],
      "metadata": {
        "id": "XYX2RlKHtHWP",
        "colab": {
          "base_uri": "https://localhost:8080/",
          "height": 1000
        },
        "outputId": "3a844e32-3ea3-4f6a-c048-304a311fad40"
      },
      "execution_count": null,
      "outputs": [
        {
          "output_type": "execute_result",
          "data": {
            "text/html": [
              "\n",
              "  <div id=\"df-1d44431f-f703-487b-82d2-0e2317778893\">\n",
              "    <div class=\"colab-df-container\">\n",
              "      <div>\n",
              "<style scoped>\n",
              "    .dataframe tbody tr th:only-of-type {\n",
              "        vertical-align: middle;\n",
              "    }\n",
              "\n",
              "    .dataframe tbody tr th {\n",
              "        vertical-align: top;\n",
              "    }\n",
              "\n",
              "    .dataframe thead th {\n",
              "        text-align: right;\n",
              "    }\n",
              "</style>\n",
              "<table border=\"1\" class=\"dataframe\">\n",
              "  <thead>\n",
              "    <tr style=\"text-align: right;\">\n",
              "      <th></th>\n",
              "      <th>title</th>\n",
              "      <th>text</th>\n",
              "      <th>label</th>\n",
              "    </tr>\n",
              "  </thead>\n",
              "  <tbody>\n",
              "    <tr>\n",
              "      <th>5789</th>\n",
              "      <td>governo exonera ministros para afastar suplent...</td>\n",
              "      <td>os ministros pernambucanos mendonca filho educ...</td>\n",
              "      <td>real</td>\n",
              "    </tr>\n",
              "    <tr>\n",
              "      <th>4392</th>\n",
              "      <td>flamenguista e preso por gastar dinheiro da p...</td>\n",
              "      <td>ubirata freitas da silva foi preso nesta tarde...</td>\n",
              "      <td>satire</td>\n",
              "    </tr>\n",
              "    <tr>\n",
              "      <th>3326</th>\n",
              "      <td>juizes limpam a bunda com a ficha limpa</td>\n",
              "      <td>funcionarios do supremo tribunal federal encon...</td>\n",
              "      <td>satire</td>\n",
              "    </tr>\n",
              "    <tr>\n",
              "      <th>9337</th>\n",
              "      <td>temer e putin citam combate a corrupcao</td>\n",
              "      <td>moscou ao fim da primeira viagem oficial de mi...</td>\n",
              "      <td>real</td>\n",
              "    </tr>\n",
              "    <tr>\n",
              "      <th>307</th>\n",
              "      <td>dilma nem o filho de deus agradou a todos.  v...</td>\n",
              "      <td>durante coletiva de imprensa lancando o progra...</td>\n",
              "      <td>satire</td>\n",
              "    </tr>\n",
              "    <tr>\n",
              "      <th>2834</th>\n",
              "      <td>romero britto deu quadros iguais a lula doria...</td>\n",
              "      <td>prefeito eleito de sao paulo joao doria psdb g...</td>\n",
              "      <td>satire</td>\n",
              "    </tr>\n",
              "    <tr>\n",
              "      <th>8099</th>\n",
              "      <td>moro bloqueia r 6 mi de tiago cedraz e mais um...</td>\n",
              "      <td>o juiz federal sergio moro decretou o bloqueio...</td>\n",
              "      <td>real</td>\n",
              "    </tr>\n",
              "    <tr>\n",
              "      <th>3820</th>\n",
              "      <td>gay assaltado e agredido por homem a quem ped...</td>\n",
              "      <td>o gerente de boate rodrigo ambrogi de 19 anos ...</td>\n",
              "      <td>satire</td>\n",
              "    </tr>\n",
              "    <tr>\n",
              "      <th>2091</th>\n",
              "      <td>executivo da friboi admite que contratar robe...</td>\n",
              "      <td>um executivo da friboi admitiu que contratar o...</td>\n",
              "      <td>satire</td>\n",
              "    </tr>\n",
              "    <tr>\n",
              "      <th>3950</th>\n",
              "      <td>dia 16 especialista estima que protesto nas r...</td>\n",
              "      <td>uma grande mobilizacao popular vai tomar conta...</td>\n",
              "      <td>satire</td>\n",
              "    </tr>\n",
              "  </tbody>\n",
              "</table>\n",
              "</div>\n",
              "      <button class=\"colab-df-convert\" onclick=\"convertToInteractive('df-1d44431f-f703-487b-82d2-0e2317778893')\"\n",
              "              title=\"Convert this dataframe to an interactive table.\"\n",
              "              style=\"display:none;\">\n",
              "        \n",
              "  <svg xmlns=\"http://www.w3.org/2000/svg\" height=\"24px\"viewBox=\"0 0 24 24\"\n",
              "       width=\"24px\">\n",
              "    <path d=\"M0 0h24v24H0V0z\" fill=\"none\"/>\n",
              "    <path d=\"M18.56 5.44l.94 2.06.94-2.06 2.06-.94-2.06-.94-.94-2.06-.94 2.06-2.06.94zm-11 1L8.5 8.5l.94-2.06 2.06-.94-2.06-.94L8.5 2.5l-.94 2.06-2.06.94zm10 10l.94 2.06.94-2.06 2.06-.94-2.06-.94-.94-2.06-.94 2.06-2.06.94z\"/><path d=\"M17.41 7.96l-1.37-1.37c-.4-.4-.92-.59-1.43-.59-.52 0-1.04.2-1.43.59L10.3 9.45l-7.72 7.72c-.78.78-.78 2.05 0 2.83L4 21.41c.39.39.9.59 1.41.59.51 0 1.02-.2 1.41-.59l7.78-7.78 2.81-2.81c.8-.78.8-2.07 0-2.86zM5.41 20L4 18.59l7.72-7.72 1.47 1.35L5.41 20z\"/>\n",
              "  </svg>\n",
              "      </button>\n",
              "      \n",
              "  <style>\n",
              "    .colab-df-container {\n",
              "      display:flex;\n",
              "      flex-wrap:wrap;\n",
              "      gap: 12px;\n",
              "    }\n",
              "\n",
              "    .colab-df-convert {\n",
              "      background-color: #E8F0FE;\n",
              "      border: none;\n",
              "      border-radius: 50%;\n",
              "      cursor: pointer;\n",
              "      display: none;\n",
              "      fill: #1967D2;\n",
              "      height: 32px;\n",
              "      padding: 0 0 0 0;\n",
              "      width: 32px;\n",
              "    }\n",
              "\n",
              "    .colab-df-convert:hover {\n",
              "      background-color: #E2EBFA;\n",
              "      box-shadow: 0px 1px 2px rgba(60, 64, 67, 0.3), 0px 1px 3px 1px rgba(60, 64, 67, 0.15);\n",
              "      fill: #174EA6;\n",
              "    }\n",
              "\n",
              "    [theme=dark] .colab-df-convert {\n",
              "      background-color: #3B4455;\n",
              "      fill: #D2E3FC;\n",
              "    }\n",
              "\n",
              "    [theme=dark] .colab-df-convert:hover {\n",
              "      background-color: #434B5C;\n",
              "      box-shadow: 0px 1px 3px 1px rgba(0, 0, 0, 0.15);\n",
              "      filter: drop-shadow(0px 1px 2px rgba(0, 0, 0, 0.3));\n",
              "      fill: #FFFFFF;\n",
              "    }\n",
              "  </style>\n",
              "\n",
              "      <script>\n",
              "        const buttonEl =\n",
              "          document.querySelector('#df-1d44431f-f703-487b-82d2-0e2317778893 button.colab-df-convert');\n",
              "        buttonEl.style.display =\n",
              "          google.colab.kernel.accessAllowed ? 'block' : 'none';\n",
              "\n",
              "        async function convertToInteractive(key) {\n",
              "          const element = document.querySelector('#df-1d44431f-f703-487b-82d2-0e2317778893');\n",
              "          const dataTable =\n",
              "            await google.colab.kernel.invokeFunction('convertToInteractive',\n",
              "                                                     [key], {});\n",
              "          if (!dataTable) return;\n",
              "\n",
              "          const docLinkHtml = 'Like what you see? Visit the ' +\n",
              "            '<a target=\"_blank\" href=https://colab.research.google.com/notebooks/data_table.ipynb>data table notebook</a>'\n",
              "            + ' to learn more about interactive tables.';\n",
              "          element.innerHTML = '';\n",
              "          dataTable['output_type'] = 'display_data';\n",
              "          await google.colab.output.renderOutput(dataTable, element);\n",
              "          const docLink = document.createElement('div');\n",
              "          docLink.innerHTML = docLinkHtml;\n",
              "          element.appendChild(docLink);\n",
              "        }\n",
              "      </script>\n",
              "    </div>\n",
              "  </div>\n",
              "  "
            ],
            "text/plain": [
              "                                                  title  \\\n",
              "5789  governo exonera ministros para afastar suplent...   \n",
              "4392   flamenguista e preso por gastar dinheiro da p...   \n",
              "3326            juizes limpam a bunda com a ficha limpa   \n",
              "9337            temer e putin citam combate a corrupcao   \n",
              "307    dilma nem o filho de deus agradou a todos.  v...   \n",
              "2834   romero britto deu quadros iguais a lula doria...   \n",
              "8099  moro bloqueia r 6 mi de tiago cedraz e mais um...   \n",
              "3820   gay assaltado e agredido por homem a quem ped...   \n",
              "2091   executivo da friboi admite que contratar robe...   \n",
              "3950   dia 16 especialista estima que protesto nas r...   \n",
              "\n",
              "                                                   text   label  \n",
              "5789  os ministros pernambucanos mendonca filho educ...    real  \n",
              "4392  ubirata freitas da silva foi preso nesta tarde...  satire  \n",
              "3326  funcionarios do supremo tribunal federal encon...  satire  \n",
              "9337  moscou ao fim da primeira viagem oficial de mi...    real  \n",
              "307   durante coletiva de imprensa lancando o progra...  satire  \n",
              "2834  prefeito eleito de sao paulo joao doria psdb g...  satire  \n",
              "8099  o juiz federal sergio moro decretou o bloqueio...    real  \n",
              "3820  o gerente de boate rodrigo ambrogi de 19 anos ...  satire  \n",
              "2091  um executivo da friboi admitiu que contratar o...  satire  \n",
              "3950  uma grande mobilizacao popular vai tomar conta...  satire  "
            ]
          },
          "metadata": {},
          "execution_count": 31
        }
      ]
    },
    {
      "cell_type": "markdown",
      "source": [
        "#### Exibindo a distribuição de dados classificados em notícias reais ou sátiras\n"
      ],
      "metadata": {
        "id": "Kk1RHfFBygvz"
      }
    },
    {
      "cell_type": "code",
      "source": [
        "dist = df.groupby([\"label\"]).size()\n",
        "\n",
        "sns.barplot(x = dist.keys(), y = dist.values)"
      ],
      "metadata": {
        "id": "ewO6qiM1tGRb",
        "colab": {
          "base_uri": "https://localhost:8080/",
          "height": 72
        },
        "outputId": "9aab8dba-8b8c-43bf-c910-b9204e42d304"
      },
      "execution_count": null,
      "outputs": [
        {
          "output_type": "execute_result",
          "data": {
            "text/plain": [
              "<matplotlib.axes._subplots.AxesSubplot at 0x7f8d1bb04250>"
            ]
          },
          "metadata": {},
          "execution_count": 32
        },
        {
          "output_type": "display_data",
          "data": {
            "image/png": "[encoded data removed]",
            "text/plain": [
              "<Figure size 432x288 with 1 Axes>"
            ]
          },
          "metadata": {}
        }
      ]
    },
    {
      "cell_type": "markdown",
      "source": [
        "### 1. Utilizando os títulos"
      ],
      "metadata": {
        "id": "XXKKhrR8ts_M"
      }
    },
    {
      "cell_type": "code",
      "source": [
        "# Criando um tokenizador\n",
        "token = RegexpTokenizer(r'[a-zA-Z0-9]+')\n",
        "\n",
        "# Pegando as stopwords da língua portuguesa\n",
        "stop_words = set(stopwords.words('portuguese'))\n",
        "\n",
        "# Criando um vetorizador TF (term frequency)\n",
        "count_vec = CountVectorizer(stop_words= stop_words,\n",
        "                            ngram_range = (1,3),\n",
        "                            tokenizer = token.tokenize)\n",
        "\n",
        "# Transforma os títulos em uma matriz de tokens\n",
        "title_counts = count_vec.fit_transform(df['title'])"
      ],
      "metadata": {
        "id": "_lLBFUMszNWW",
        "colab": {
          "base_uri": "https://localhost:8080/"
        },
        "outputId": "2dad46ef-f04f-41c1-bd14-061a22b77ba9"
      },
      "execution_count": null,
      "outputs": [
        {
          "output_type": "stream",
          "name": "stderr",
          "text": [
            "/usr/local/lib/python3.7/dist-packages/sklearn/feature_extraction/text.py:401: UserWarning: Your stop_words may be inconsistent with your preprocessing. Tokenizing the stop words generated tokens ['amos', 'at', 'est', 'estiv', 'f', 'h', 'houv', 'j', 'm', 'n', 'nhamos', 'ramos', 's', 'ser', 'ssemos', 't', 'tamb', 'ter', 'tiv', 'vamos', 'voc'] not in stop_words.\n",
            "  % sorted(inconsistent)\n"
          ]
        }
      ]
    },
    {
      "cell_type": "markdown",
      "source": [
        "#### Separando os dados de treino e os dados de teste\n",
        "#### Nossa **variável alvo** é a coluna 'label' (notícia ou sátira)\n",
        "#### 75% dos dados serão utilizados para treino e os outros 25% serão utilizados para teste"
      ],
      "metadata": {
        "id": "Kfq7bWQbrol-"
      }
    },
    {
      "cell_type": "code",
      "source": [
        "X_train, X_test, Y_train, Y_test = train_test_split(title_counts, df['label'], test_size=0.25, random_state=5)"
      ],
      "metadata": {
        "id": "DYfOggQ365VO"
      },
      "execution_count": null,
      "outputs": []
    },
    {
      "cell_type": "markdown",
      "source": [
        "#### Classificando com Naive Bayes"
      ],
      "metadata": {
        "id": "aRrM7bnIrkFQ"
      }
    },
    {
      "cell_type": "code",
      "source": [
        "MNB = MultinomialNB()\n",
        "MNB.fit(X_train, Y_train)"
      ],
      "metadata": {
        "id": "BjpltrFGptcq",
        "colab": {
          "base_uri": "https://localhost:8080/"
        },
        "outputId": "ecb57700-5bd7-4e08-8444-50aa2aab39f9"
      },
      "execution_count": null,
      "outputs": [
        {
          "output_type": "execute_result",
          "data": {
            "text/plain": [
              "MultinomialNB()"
            ]
          },
          "metadata": {},
          "execution_count": 35
        }
      ]
    },
    {
      "cell_type": "code",
      "source": [
        "predicted_nb = MNB.predict(X_test)\n",
        "accuracy_score_nb = metrics.accuracy_score(predicted_nb, Y_test)\n",
        "print(str('{:04.2f}'.format(accuracy_score_nb*100))+'%')"
      ],
      "metadata": {
        "id": "Ym8xjtnEAwlc",
        "colab": {
          "base_uri": "https://localhost:8080/"
        },
        "outputId": "d485d6d7-3552-4ffe-d335-4a657f9815a5"
      },
      "execution_count": null,
      "outputs": [
        {
          "output_type": "stream",
          "name": "stdout",
          "text": [
            "86.68%\n"
          ]
        }
      ]
    },
    {
      "cell_type": "markdown",
      "source": [
        "#### Classificando com Regressão Logística"
      ],
      "metadata": {
        "id": "UsF6CNLut8VZ"
      }
    },
    {
      "cell_type": "code",
      "source": [
        "LG = LogisticRegression(random_state = 10)\n",
        "LG.fit(X_train, Y_train)"
      ],
      "metadata": {
        "id": "sS0jXHpot7x7",
        "colab": {
          "base_uri": "https://localhost:8080/"
        },
        "outputId": "937505c9-8255-4cad-8f04-c45d44704fc5"
      },
      "execution_count": null,
      "outputs": [
        {
          "output_type": "execute_result",
          "data": {
            "text/plain": [
              "LogisticRegression(random_state=10)"
            ]
          },
          "metadata": {},
          "execution_count": 37
        }
      ]
    },
    {
      "cell_type": "code",
      "source": [
        "predicted_lg = LG.predict(X_test)\n",
        "accuracy_score_lg = metrics.accuracy_score(predicted_lg, Y_test)\n",
        "print(str('{:04.2f}'.format(accuracy_score_lg*100))+'%')"
      ],
      "metadata": {
        "id": "6QnCYmp6uIrG",
        "colab": {
          "base_uri": "https://localhost:8080/"
        },
        "outputId": "9edc84f4-f009-489d-ce25-38dd761a7944"
      },
      "execution_count": null,
      "outputs": [
        {
          "output_type": "stream",
          "name": "stdout",
          "text": [
            "86.00%\n"
          ]
        }
      ]
    },
    {
      "cell_type": "markdown",
      "source": [
        "#### Classificando com Máquinas de Vetores de Suporte"
      ],
      "metadata": {
        "id": "YR6VEtsBAMZm"
      }
    },
    {
      "cell_type": "code",
      "source": [
        "SVC = svm.SVC(random_state = 10)\n",
        "SVC.fit(X_train, Y_train)"
      ],
      "metadata": {
        "colab": {
          "base_uri": "https://localhost:8080/"
        },
        "id": "8fLBGs0tAhDn",
        "outputId": "70f1491d-571e-4f88-d84c-fddd8727fd67"
      },
      "execution_count": null,
      "outputs": [
        {
          "output_type": "execute_result",
          "data": {
            "text/plain": [
              "SVC(random_state=10)"
            ]
          },
          "metadata": {},
          "execution_count": 39
        }
      ]
    },
    {
      "cell_type": "code",
      "source": [
        "predicted_svc = SVC.predict(X_test)\n",
        "accuracy_score_svc = metrics.accuracy_score(predicted_svc, Y_test)\n",
        "print(str('{:04.2f}'.format(accuracy_score_svc*100))+'%')"
      ],
      "metadata": {
        "colab": {
          "base_uri": "https://localhost:8080/"
        },
        "id": "G9j75PceA43V",
        "outputId": "9a83b0c1-f4d2-4324-f9f6-f5890e0c7a62"
      },
      "execution_count": null,
      "outputs": [
        {
          "output_type": "stream",
          "name": "stdout",
          "text": [
            "84.76%\n"
          ]
        }
      ]
    },
    {
      "cell_type": "markdown",
      "source": [
        "## 2. Utilizando os textos"
      ],
      "metadata": {
        "id": "x3F6nLH4lSDu"
      }
    },
    {
      "cell_type": "markdown",
      "source": [
        "#### Transforma os textos em uma matriz de tokens"
      ],
      "metadata": {
        "id": "McMa5lbo-MLU"
      }
    },
    {
      "cell_type": "code",
      "source": [
        "text_counts = count_vec.fit_transform(df['text'])"
      ],
      "metadata": {
        "id": "fMb1sUhWsMZd"
      },
      "execution_count": null,
      "outputs": []
    },
    {
      "cell_type": "markdown",
      "source": [
        "#### Separando os dados de treino e os dados de teste\n"
      ],
      "metadata": {
        "id": "9wQyV86t-IS5"
      }
    },
    {
      "cell_type": "code",
      "source": [
        "X_train, X_test, Y_train, Y_test = train_test_split(text_counts, df['label'], test_size=0.25, random_state=5)"
      ],
      "metadata": {
        "id": "minUkl7F8vTC"
      },
      "execution_count": null,
      "outputs": []
    },
    {
      "cell_type": "markdown",
      "source": [
        "#### Classificando com Naive Bayes"
      ],
      "metadata": {
        "id": "r4C7UEo8-E73"
      }
    },
    {
      "cell_type": "code",
      "source": [
        "MNB.fit(X_train, Y_train)"
      ],
      "metadata": {
        "colab": {
          "base_uri": "https://localhost:8080/"
        },
        "id": "x2ezAyKF9EG8",
        "outputId": "d5499ccf-29d1-4bbc-b5ee-649f9a59c1a2"
      },
      "execution_count": null,
      "outputs": [
        {
          "output_type": "execute_result",
          "data": {
            "text/plain": [
              "MultinomialNB()"
            ]
          },
          "metadata": {},
          "execution_count": 43
        }
      ]
    },
    {
      "cell_type": "code",
      "source": [
        "predicted_nb = MNB.predict(X_test)\n",
        "accuracy_score_nb = metrics.accuracy_score(predicted_nb, Y_test)\n",
        "print(str('{:04.2f}'.format(accuracy_score_lg*100))+'%')"
      ],
      "metadata": {
        "colab": {
          "base_uri": "https://localhost:8080/"
        },
        "id": "vulXMyjW-uBB",
        "outputId": "58b28a3d-f035-4ae7-94c1-25d7b0cd4974"
      },
      "execution_count": null,
      "outputs": [
        {
          "output_type": "stream",
          "name": "stdout",
          "text": [
            "86.00%\n"
          ]
        }
      ]
    },
    {
      "cell_type": "markdown",
      "source": [
        "#### Classificando com Regressão Logística"
      ],
      "metadata": {
        "id": "EPXZJtIT_EDk"
      }
    },
    {
      "cell_type": "code",
      "source": [
        "LG.fit(X_train, Y_train)"
      ],
      "metadata": {
        "colab": {
          "base_uri": "https://localhost:8080/"
        },
        "id": "5HfV42VJ-9N7",
        "outputId": "bc92f9e4-4f7e-4fec-9958-669091e106b9"
      },
      "execution_count": null,
      "outputs": [
        {
          "output_type": "execute_result",
          "data": {
            "text/plain": [
              "LogisticRegression(random_state=10)"
            ]
          },
          "metadata": {},
          "execution_count": 45
        }
      ]
    },
    {
      "cell_type": "code",
      "source": [
        "predicted_lg = LG.predict(X_test)\n",
        "accuracy_score_lg = metrics.accuracy_score(predicted_lg, Y_test)\n",
        "print(str('{:04.2f}'.format(accuracy_score_lg*100))+'%')"
      ],
      "metadata": {
        "colab": {
          "base_uri": "https://localhost:8080/"
        },
        "id": "vfxjSXrw_SFg",
        "outputId": "260aa30c-10bf-411f-d097-b34201b5b900"
      },
      "execution_count": null,
      "outputs": [
        {
          "output_type": "stream",
          "name": "stdout",
          "text": [
            "97.88%\n"
          ]
        }
      ]
    },
    {
      "cell_type": "markdown",
      "source": [
        "#### Classificando com Máquinas de Vetores de Suporte"
      ],
      "metadata": {
        "id": "R4wb-_bU_zEH"
      }
    },
    {
      "cell_type": "code",
      "source": [
        "SVC.fit(X_train, Y_train)"
      ],
      "metadata": {
        "colab": {
          "base_uri": "https://localhost:8080/"
        },
        "id": "t06JMr2dC626",
        "outputId": "f1a11634-73f5-4efb-9a29-0daa11b05340"
      },
      "execution_count": null,
      "outputs": [
        {
          "output_type": "execute_result",
          "data": {
            "text/plain": [
              "SVC(random_state=10)"
            ]
          },
          "metadata": {},
          "execution_count": 47
        }
      ]
    },
    {
      "cell_type": "code",
      "source": [
        "predicted_svc = SVC.predict(X_test)\n",
        "accuracy_score_svc = metrics.accuracy_score(predicted_svc, Y_test)\n",
        "print(str('{:04.2f}'.format(accuracy_score_svc*100))+'%')"
      ],
      "metadata": {
        "colab": {
          "base_uri": "https://localhost:8080/"
        },
        "id": "YKgB0y0U_Son",
        "outputId": "d2b4ae9e-c66b-40e9-91a3-5399b8009859"
      },
      "execution_count": null,
      "outputs": [
        {
          "output_type": "stream",
          "name": "stdout",
          "text": [
            "97.04%\n"
          ]
        }
      ]
    },
    {
      "cell_type": "markdown",
      "source": [
        "## 3. Utilizando títulos + textos (conteúdo completo)"
      ],
      "metadata": {
        "id": "glJAMML2GMrY"
      }
    },
    {
      "cell_type": "code",
      "source": [
        "# Criando uma coluna no DataFrame que concatena títulos e textos\n",
        "\n",
        "df['full_content'] = (df['title'] + \" \" + df['text'])\n",
        "\n",
        "# Transforma o conteúdo em uma matriz de tokens\n",
        "content_counts = count_vec.fit_transform(df['full_content'])"
      ],
      "metadata": {
        "id": "TS9HxPq7GF_1"
      },
      "execution_count": null,
      "outputs": []
    },
    {
      "cell_type": "markdown",
      "source": [
        "#### Separando os dados de treino e os dados de teste"
      ],
      "metadata": {
        "id": "JntVcFWCHGtC"
      }
    },
    {
      "cell_type": "code",
      "source": [
        "X_train, X_test, Y_train, Y_test = train_test_split(content_counts, df['label'], test_size=0.25, random_state=5)"
      ],
      "metadata": {
        "id": "zfxiE_zZHDN4"
      },
      "execution_count": null,
      "outputs": []
    },
    {
      "cell_type": "markdown",
      "source": [
        "#### Classificando com Naive Bayes"
      ],
      "metadata": {
        "id": "uIrdyQ_MISPo"
      }
    },
    {
      "cell_type": "code",
      "source": [
        "MNB.fit(X_train, Y_train)"
      ],
      "metadata": {
        "colab": {
          "base_uri": "https://localhost:8080/"
        },
        "id": "Qh-BwToAtvNU",
        "outputId": "8a0ed219-bdb6-4c74-a8bf-fa92038f019a"
      },
      "execution_count": null,
      "outputs": [
        {
          "output_type": "execute_result",
          "data": {
            "text/plain": [
              "MultinomialNB()"
            ]
          },
          "metadata": {},
          "execution_count": 51
        }
      ]
    },
    {
      "cell_type": "code",
      "source": [
        "predicted_nb = MNB.predict(X_test)\n",
        "accuracy_score_nb = metrics.accuracy_score(predicted_nb, Y_test)\n",
        "print(str('{:04.2f}'.format(accuracy_score_lg*100))+'%')"
      ],
      "metadata": {
        "colab": {
          "base_uri": "https://localhost:8080/"
        },
        "id": "G8GlBFCxt1zy",
        "outputId": "c8a0b5da-ccdc-4b9f-dd5b-03931b2df2af"
      },
      "execution_count": null,
      "outputs": [
        {
          "output_type": "stream",
          "name": "stdout",
          "text": [
            "97.88%\n"
          ]
        }
      ]
    },
    {
      "cell_type": "markdown",
      "source": [
        "#### Classificando com Regressão Logística\n",
        "\n"
      ],
      "metadata": {
        "id": "7jWSq-zoIVbU"
      }
    },
    {
      "cell_type": "code",
      "source": [
        "LG.fit(X_train, Y_train)"
      ],
      "metadata": {
        "colab": {
          "base_uri": "https://localhost:8080/"
        },
        "outputId": "d13f38a8-4feb-42de-c1f6-4fa5b8cdb513",
        "id": "NOuIJXrIuA1l"
      },
      "execution_count": null,
      "outputs": [
        {
          "output_type": "execute_result",
          "data": {
            "text/plain": [
              "LogisticRegression(random_state=10)"
            ]
          },
          "metadata": {},
          "execution_count": 53
        }
      ]
    },
    {
      "cell_type": "code",
      "source": [
        "predicted_lg = LG.predict(X_test)\n",
        "accuracy_score_lg = metrics.accuracy_score(predicted_lg, Y_test)\n",
        "print(str('{:04.2f}'.format(accuracy_score_lg*100))+'%')"
      ],
      "metadata": {
        "colab": {
          "base_uri": "https://localhost:8080/"
        },
        "outputId": "d8d6818d-ecbf-48a2-b3ae-bb14cefce02d",
        "id": "Is2nsHGOuA1p"
      },
      "execution_count": null,
      "outputs": [
        {
          "output_type": "stream",
          "name": "stdout",
          "text": [
            "97.76%\n"
          ]
        }
      ]
    },
    {
      "cell_type": "markdown",
      "source": [
        "#### Classificando com Máquinas de Vetores de Suporte"
      ],
      "metadata": {
        "id": "utsgpN2NIVxM"
      }
    },
    {
      "cell_type": "code",
      "source": [
        "SVC.fit(X_train, Y_train)"
      ],
      "metadata": {
        "colab": {
          "base_uri": "https://localhost:8080/"
        },
        "outputId": "2b90ec72-0660-4cec-e243-725b319d386c",
        "id": "_eRAoidLuGcg"
      },
      "execution_count": null,
      "outputs": [
        {
          "output_type": "execute_result",
          "data": {
            "text/plain": [
              "SVC(random_state=10)"
            ]
          },
          "metadata": {},
          "execution_count": 55
        }
      ]
    },
    {
      "cell_type": "code",
      "source": [
        "predicted_svc = SVC.predict(X_test)\n",
        "accuracy_score_svc = metrics.accuracy_score(predicted_svc, Y_test)\n",
        "print(str('{:04.2f}'.format(accuracy_score_svc*100))+'%')"
      ],
      "metadata": {
        "colab": {
          "base_uri": "https://localhost:8080/"
        },
        "outputId": "011ca57e-a7e2-4a17-9468-86400e475ac7",
        "id": "sHlLrtIBuGcm"
      },
      "execution_count": null,
      "outputs": [
        {
          "output_type": "stream",
          "name": "stdout",
          "text": [
            "97.12%\n"
          ]
        }
      ]
    },
    {
      "cell_type": "markdown",
      "source": [
        "# Conclusões"
      ],
      "metadata": {
        "id": "egPhUz9mGYVV"
      }
    },
    {
      "cell_type": "markdown",
      "source": [
        "| | Naive Bayes| Regressão Logística | MVS \n",
        "|:--------| :----------:| :------------------: | :---------:\n",
        "|**Títulos**| 86.68% | 86.00%| 84.76% |\n",
        "|**Textos** |  86.00% | 97.88% | 97.04%| \n",
        "|**Títulos + Textos** | 97.88% | 97.76%| 97.12% | "
      ],
      "metadata": {
        "id": "Z6cP1b1cGZ9v"
      }
    },
    {
      "cell_type": "markdown",
      "source": [
        "- Utilizando somente os títulos, os algoritmos apresentam uma acurácia razoável, mas insuficiente comparado com as outras abordagens. Isso é esperado porque alguns títulos são insuficientes para dizer se a notícia é real ou não, visto que muitos deles são estruturados de uma maneira mais séria, como se tratasse de uma notícia real, mesmo não sendo. O contrário também acontece, pois alguns títulos de tom mais humorado, por exemplo, podem acabar sendo classificadas como notícias satíricas.\n",
        "- Utilizando apenas os textos, o único algoritmo que não apresentou uma acurácia ótima foi o Naive Bayes. Os outros dois apresentaram uma acurácia quase máxima. Como há muito mais palavras aqui, era esperado que os algoritmos fizessem uma classificação melhor.\n",
        "- Utilizando títulos e textos juntos, todos os algoritmos apresentaram uma acurácia altíssima. "
      ],
      "metadata": {
        "id": "UxWGz6cRKKh7"
      }
    }
  ]
}